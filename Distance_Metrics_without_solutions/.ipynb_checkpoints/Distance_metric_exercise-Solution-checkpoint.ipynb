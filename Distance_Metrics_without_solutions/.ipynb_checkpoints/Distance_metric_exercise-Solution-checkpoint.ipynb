{
 "cells": [
  {
   "cell_type": "markdown",
   "metadata": {},
   "source": [
    "Complete the DISTANCEMETRIC function.\n",
    "\n",
    "\n",
    "This function should take in 3 arguments:\n",
    "\n",
    "a, a tuple or array that describes a vector in n-dimensional space.\n",
    "\n",
    "b, a tuple or array that describes a vector in n-dimensional space (this must be the same length as a!)\n",
    "\n",
    "c, which tells us the norm to calculate the vector space (if set to 1, the result will be Manhattan, while 2 will calculate Euclidean distance)\n",
    "\n",
    "Since euclidean distance is the most common distance metric used, this function should default to using c=2 if no value is set for c.\n",
    "\n",
    "Include a parameter called verbose which is set to True by default. \n",
    "\n",
    "If true, the function should print out if the distance metric returned is a measurement of Manhattan, Euclidean, or Minkowski distance.\n",
    "\n",
    "\n",
    "This function should implement the minkowski distance equation above, and return the result.\n",
    "\n",
    "\n",
    "NOTE: Remember that for Manhattan Distance, you need to make use of np.abs() to get the absolute value of the distance for each dimension, since we don't have the squaring function to make this positive for us!\n",
    "\n",
    "HINT: Use np.power() as an easy way to implement both squares and square roots. np.power(a, 3) will return the cube of a, while np.power(a, 1/3) will return the cube root of 3. For more information on this function, see the numpy documentation!\n",
    "\n",
    "https://docs.scipy.org/doc/numpy-1.15.1/reference/generated/numpy.power.html"
   ]
  },
  {
   "cell_type": "code",
   "execution_count": 3,
   "metadata": {},
   "outputs": [
    {
     "name": "stdout",
     "output_type": "stream",
     "text": [
      "Calculating Euclidean Distance:\n",
      "4.47213595499958\n",
      "Calculating Manhattan Distance:\n",
      "6.0\n",
      "Calcuating Minkowski Distance (c=3):\n",
      "4.160167646103808\n"
     ]
    }
   ],
   "source": [
    "import numpy as np\n",
    "\n",
    "def distancemetric(a, b, c=2, verbose=True):\n",
    "    if len(a) != len(b):\n",
    "        raise ValueError(\"Both vectors must be of equal length!\")\n",
    "    \n",
    "    root = 1 / c\n",
    "    running_total = 0\n",
    "    \n",
    "    if verbose:\n",
    "        if c == 1:\n",
    "            print(\"Calculating Manhattan Distance:\")\n",
    "        elif c == 2:\n",
    "            print('Calculating Euclidean Distance:')\n",
    "        else:\n",
    "            print(\"Calcuating Minkowski Distance (c={}):\".format(c))\n",
    "    \n",
    "    for ind, val_a in enumerate(a):\n",
    "        val_b = b[ind]\n",
    "        running_total += np.power(np.abs(val_a - val_b), c)\n",
    "    \n",
    "    return np.power(running_total, root)\n",
    "\n",
    "pt1 = (3, 5)\n",
    "pt2 = (1, 9)\n",
    "print(distance(pt1, pt2)) \n",
    "print(distance(pt1, pt2, c=1)) \n",
    "print(distance(pt1, pt2, c=3)) "
   ]
  },
  {
   "cell_type": "code",
   "execution_count": null,
   "metadata": {
    "collapsed": true
   },
   "outputs": [],
   "source": []
  }
 ],
 "metadata": {
  "kernelspec": {
   "display_name": "Python 3",
   "language": "python",
   "name": "python3"
  },
  "language_info": {
   "codemirror_mode": {
    "name": "ipython",
    "version": 3
   },
   "file_extension": ".py",
   "mimetype": "text/x-python",
   "name": "python",
   "nbconvert_exporter": "python",
   "pygments_lexer": "ipython3",
   "version": "3.6.9"
  }
 },
 "nbformat": 4,
 "nbformat_minor": 2
}
